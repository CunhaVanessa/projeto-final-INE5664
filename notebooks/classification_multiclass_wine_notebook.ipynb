{
 "cells": [
  {
   "cell_type": "markdown",
   "id": "eedc979e",
   "metadata": {},
   "source": [
    "# Classificação Multiclasse de Vinhos 🍷\n",
    "\n",
    "Este notebook implementa uma rede neural artificial do zero para classificar a qualidade de vinhos (tinto e branco) com base em atributos fisico-químicos. O modelo é treinado usando apenas NumPy e permite customizar a arquitetura da rede e função de ativação."
   ]
  },
  {
   "cell_type": "code",
   "execution_count": 1,
   "id": "3e678889",
   "metadata": {},
   "outputs": [
    {
     "name": "stdout",
     "output_type": "stream",
     "text": [
      "Requirement already satisfied: numpy in /Users/vanessacunha/Documents/Estudo/UFSC/2025.1/Aprendizado de máquina/projeto-final-INE5664/venv/lib/python3.13/site-packages (2.3.1)\n",
      "Requirement already satisfied: matplotlib in /Users/vanessacunha/Documents/Estudo/UFSC/2025.1/Aprendizado de máquina/projeto-final-INE5664/venv/lib/python3.13/site-packages (3.10.3)\n",
      "Requirement already satisfied: pandas in /Users/vanessacunha/Documents/Estudo/UFSC/2025.1/Aprendizado de máquina/projeto-final-INE5664/venv/lib/python3.13/site-packages (2.3.0)\n",
      "Requirement already satisfied: scikit-learn in /Users/vanessacunha/Documents/Estudo/UFSC/2025.1/Aprendizado de máquina/projeto-final-INE5664/venv/lib/python3.13/site-packages (1.6.1)\n",
      "Requirement already satisfied: seaborn in /Users/vanessacunha/Documents/Estudo/UFSC/2025.1/Aprendizado de máquina/projeto-final-INE5664/venv/lib/python3.13/site-packages (0.13.2)\n",
      "Requirement already satisfied: imblearn in /Users/vanessacunha/Documents/Estudo/UFSC/2025.1/Aprendizado de máquina/projeto-final-INE5664/venv/lib/python3.13/site-packages (0.0)\n",
      "Requirement already satisfied: contourpy>=1.0.1 in /Users/vanessacunha/Documents/Estudo/UFSC/2025.1/Aprendizado de máquina/projeto-final-INE5664/venv/lib/python3.13/site-packages (from matplotlib) (1.3.2)\n",
      "Requirement already satisfied: cycler>=0.10 in /Users/vanessacunha/Documents/Estudo/UFSC/2025.1/Aprendizado de máquina/projeto-final-INE5664/venv/lib/python3.13/site-packages (from matplotlib) (0.12.1)\n",
      "Requirement already satisfied: fonttools>=4.22.0 in /Users/vanessacunha/Documents/Estudo/UFSC/2025.1/Aprendizado de máquina/projeto-final-INE5664/venv/lib/python3.13/site-packages (from matplotlib) (4.58.4)\n",
      "Requirement already satisfied: kiwisolver>=1.3.1 in /Users/vanessacunha/Documents/Estudo/UFSC/2025.1/Aprendizado de máquina/projeto-final-INE5664/venv/lib/python3.13/site-packages (from matplotlib) (1.4.8)\n",
      "Requirement already satisfied: packaging>=20.0 in /Users/vanessacunha/Documents/Estudo/UFSC/2025.1/Aprendizado de máquina/projeto-final-INE5664/venv/lib/python3.13/site-packages (from matplotlib) (25.0)\n",
      "Requirement already satisfied: pillow>=8 in /Users/vanessacunha/Documents/Estudo/UFSC/2025.1/Aprendizado de máquina/projeto-final-INE5664/venv/lib/python3.13/site-packages (from matplotlib) (11.2.1)\n",
      "Requirement already satisfied: pyparsing>=2.3.1 in /Users/vanessacunha/Documents/Estudo/UFSC/2025.1/Aprendizado de máquina/projeto-final-INE5664/venv/lib/python3.13/site-packages (from matplotlib) (3.2.3)\n",
      "Requirement already satisfied: python-dateutil>=2.7 in /Users/vanessacunha/Documents/Estudo/UFSC/2025.1/Aprendizado de máquina/projeto-final-INE5664/venv/lib/python3.13/site-packages (from matplotlib) (2.9.0.post0)\n",
      "Requirement already satisfied: pytz>=2020.1 in /Users/vanessacunha/Documents/Estudo/UFSC/2025.1/Aprendizado de máquina/projeto-final-INE5664/venv/lib/python3.13/site-packages (from pandas) (2025.2)\n",
      "Requirement already satisfied: tzdata>=2022.7 in /Users/vanessacunha/Documents/Estudo/UFSC/2025.1/Aprendizado de máquina/projeto-final-INE5664/venv/lib/python3.13/site-packages (from pandas) (2025.2)\n",
      "Requirement already satisfied: scipy>=1.6.0 in /Users/vanessacunha/Documents/Estudo/UFSC/2025.1/Aprendizado de máquina/projeto-final-INE5664/venv/lib/python3.13/site-packages (from scikit-learn) (1.16.0)\n",
      "Requirement already satisfied: joblib>=1.2.0 in /Users/vanessacunha/Documents/Estudo/UFSC/2025.1/Aprendizado de máquina/projeto-final-INE5664/venv/lib/python3.13/site-packages (from scikit-learn) (1.5.1)\n",
      "Requirement already satisfied: threadpoolctl>=3.1.0 in /Users/vanessacunha/Documents/Estudo/UFSC/2025.1/Aprendizado de máquina/projeto-final-INE5664/venv/lib/python3.13/site-packages (from scikit-learn) (3.6.0)\n",
      "Requirement already satisfied: imbalanced-learn in /Users/vanessacunha/Documents/Estudo/UFSC/2025.1/Aprendizado de máquina/projeto-final-INE5664/venv/lib/python3.13/site-packages (from imblearn) (0.13.0)\n",
      "Requirement already satisfied: six>=1.5 in /Users/vanessacunha/Documents/Estudo/UFSC/2025.1/Aprendizado de máquina/projeto-final-INE5664/venv/lib/python3.13/site-packages (from python-dateutil>=2.7->matplotlib) (1.17.0)\n",
      "Requirement already satisfied: sklearn-compat<1,>=0.1 in /Users/vanessacunha/Documents/Estudo/UFSC/2025.1/Aprendizado de máquina/projeto-final-INE5664/venv/lib/python3.13/site-packages (from imbalanced-learn->imblearn) (0.1.3)\n",
      "\n",
      "\u001b[1m[\u001b[0m\u001b[34;49mnotice\u001b[0m\u001b[1;39;49m]\u001b[0m\u001b[39;49m A new release of pip is available: \u001b[0m\u001b[31;49m25.0\u001b[0m\u001b[39;49m -> \u001b[0m\u001b[32;49m25.1.1\u001b[0m\n",
      "\u001b[1m[\u001b[0m\u001b[34;49mnotice\u001b[0m\u001b[1;39;49m]\u001b[0m\u001b[39;49m To update, run: \u001b[0m\u001b[32;49mpip install --upgrade pip\u001b[0m\n"
     ]
    }
   ],
   "source": [
    "!pip install numpy matplotlib pandas scikit-learn seaborn imblearn"
   ]
  },
  {
   "cell_type": "code",
   "execution_count": 2,
   "id": "2a225b20",
   "metadata": {},
   "outputs": [
    {
     "name": "stdout",
     "output_type": "stream",
     "text": [
      "✅ Módulos carregados com sucesso.\n"
     ]
    }
   ],
   "source": [
    "import sys\n",
    "import os\n",
    "import numpy as np\n",
    "\n",
    "\n",
    "# Adiciona o caminho para importar módulos\n",
    "sys.path.append(os.path.abspath(\"../src\"))\n",
    "\n",
    "from classification_multiclass.data_loader import WineQualityDataLoader\n",
    "from classification_multiclass.wine_classifier import WineQualityClassifier\n",
    "\n",
    "print(\"✅ Módulos carregados com sucesso.\")"
   ]
  },
  {
   "cell_type": "code",
   "execution_count": 3,
   "id": "28df74c1",
   "metadata": {},
   "outputs": [
    {
     "name": "stdout",
     "output_type": "stream",
     "text": [
      "✅ Dados carregados e preparados com sucesso.\n",
      "🔢 Total de amostras: 6497 | Treino: 4547 | Teste: 1950\n",
      "✅ Dados carregados.\n",
      "📐 Formato dos dados de treino: (4547, 11)\n",
      "📐 Formato dos dados de teste: (1950, 11)\n"
     ]
    }
   ],
   "source": [
    "loader = WineQualityDataLoader()\n",
    "X_train, X_test, y_train, y_test, y_all = loader.load_and_prepare_data()\n",
    "print(\"✅ Dados carregados.\")\n",
    "print(f\"📐 Formato dos dados de treino: {X_train.shape}\")\n",
    "print(f\"📐 Formato dos dados de teste: {X_test.shape}\")"
   ]
  },
  {
   "cell_type": "code",
   "execution_count": 38,
   "id": "4130394b",
   "metadata": {},
   "outputs": [
    {
     "name": "stdout",
     "output_type": "stream",
     "text": [
      "Número de classes detectado: 7\n",
      "🧠 Modelo inicializado com arquitetura personalizada.\n"
     ]
    }
   ],
   "source": [
    "# 📊 Verificando o número de classes nos dados de treino\n",
    "num_classes = len(np.unique(y_train))\n",
    "print(\"Número de classes detectado:\", num_classes)\n",
    "\n",
    "# 🧩 Obtendo o número de features (entradas)\n",
    "input_dim = X_train.shape[1]\n",
    "\n",
    "# 🧠 Definindo a arquitetura da rede com função de ativação por camada\n",
    "layers = [\n",
    "    {\"neurons\": input_dim, \"activation\": \"relu\"},      # Entrada\n",
    "    {\"neurons\": 128, \"activation\": \"tanh\"},            # Oculta 1\n",
    "    {\"neurons\": 64, \"activation\": \"relu\"},             # Oculta 2\n",
    "    {\"neurons\": 32, \"activation\": \"tanh\"},             # Oculta 3\n",
    "    {\"neurons\": num_classes, \"activation\": \"softmax\"}  # Saída\n",
    "]\n",
    "\n",
    "# 🚀 Inicialização do modelo com arquitetura personalizada\n",
    "model = WineQualityClassifier(layers=layers)\n",
    "print(\"🧠 Modelo inicializado com arquitetura personalizada.\")"
   ]
  },
  {
   "cell_type": "code",
   "execution_count": 39,
   "id": "77d45da6",
   "metadata": {},
   "outputs": [
    {
     "name": "stdout",
     "output_type": "stream",
     "text": [
      "🧪 Iniciando treinamento...\n",
      "Época 0 - Perda: 19.5393\n",
      "Época 100 - Perda: 1.7416\n",
      "Época 200 - Perda: 1.4330\n",
      "Época 300 - Perda: 1.3357\n",
      "Época 400 - Perda: 1.2992\n",
      "Época 500 - Perda: 1.2846\n",
      "Época 600 - Perda: 1.2786\n",
      "Época 700 - Perda: 1.2761\n",
      "Época 800 - Perda: 1.2750\n",
      "Época 900 - Perda: 1.2746\n",
      "✅ Treinamento concluído.\n"
     ]
    }
   ],
   "source": [
    "print(\"🧪 Iniciando treinamento...\")\n",
    "losses = model.train(X_train, y_train, epochs=1000, learning_rate=0.01)\n",
    "print(\"✅ Treinamento concluído.\")"
   ]
  },
  {
   "cell_type": "code",
   "execution_count": 40,
   "id": "71811119",
   "metadata": {},
   "outputs": [
    {
     "name": "stdout",
     "output_type": "stream",
     "text": [
      "📊 Avaliando modelo...\n",
      "✅ Acurácia: 0.4364\n",
      "📘 Métricas por classe:\n",
      "Classe 0: {'precision': 0.0, 'recall': np.float64(0.0), 'f1-score': 0.0, 'support': 9}\n",
      "Classe 1: {'precision': 0.0, 'recall': np.float64(0.0), 'f1-score': 0.0, 'support': 65}\n",
      "Classe 2: {'precision': 0.0, 'recall': np.float64(0.0), 'f1-score': 0.0, 'support': 642}\n",
      "Classe 3: {'precision': np.float64(0.4364), 'recall': np.float64(1.0), 'f1-score': np.float64(0.6076), 'support': 851}\n",
      "Classe 4: {'precision': 0.0, 'recall': np.float64(0.0), 'f1-score': 0.0, 'support': 324}\n",
      "Classe 5: {'precision': 0.0, 'recall': np.float64(0.0), 'f1-score': 0.0, 'support': 58}\n",
      "Classe 6: {'precision': 0.0, 'recall': np.float64(0.0), 'f1-score': 0.0, 'support': 1}\n"
     ]
    }
   ],
   "source": [
    "print(\"📊 Avaliando modelo...\")\n",
    "results = model.evaluate(X_test, y_test)\n",
    "\n",
    "print(f\"✅ Acurácia: {results['accuracy']:.4f}\")\n",
    "print(\"📘 Métricas por classe:\")\n",
    "for cls, metrics in results['metrics_per_class'].items():\n",
    "    print(f\"Classe {cls}: {metrics}\")"
   ]
  },
  {
   "cell_type": "code",
   "execution_count": 41,
   "id": "5b49044d",
   "metadata": {},
   "outputs": [
    {
     "data": {
      "image/png": "[encoded data removed]",
      "text/plain": [
       "<Figure size 640x480 with 1 Axes>"
      ]
     },
     "metadata": {},
     "output_type": "display_data"
    }
   ],
   "source": [
    "import matplotlib.pyplot as plt\n",
    "\n",
    "plt.plot(losses)\n",
    "plt.xlabel(\"Épocas\")\n",
    "plt.ylabel(\"Perda\")\n",
    "plt.title(\"Evolução da Perda durante o Treinamento\")\n",
    "plt.grid(True)\n",
    "plt.show()"
   ]
  },
  {
   "cell_type": "code",
   "execution_count": 42,
   "id": "b0f2254f",
   "metadata": {},
   "outputs": [
    {
     "name": "stdout",
     "output_type": "stream",
     "text": [
      "✅ Acurácia: 0.4364\n"
     ]
    }
   ],
   "source": [
    "results = model.evaluate(X_test, y_test)\n",
    "\n",
    "print(f\"✅ Acurácia: {results['accuracy']:.4f}\")"
   ]
  },
  {
   "cell_type": "code",
   "execution_count": 42,
   "id": "83a07e5a-2e2e-41ef-ac90-8fb390e58fab",
   "metadata": {},
   "outputs": [
    {
     "name": "stdout",
     "output_type": "stream",
     "text": [
      "✅ Acurácia: 0.4364\n"
     ]
    }
   ],
   "source": [
    "results = model.evaluate(X_test, y_test)\n",
    "\n",
    "print(f\"✅ Acurácia: {results['accuracy']:.4f}\")"
   ]
  }
 ],
 "metadata": {
  "kernelspec": {
   "display_name": "Python 3 (ipykernel)",
   "language": "python",
   "name": "python3"
  },
  "language_info": {
   "codemirror_mode": {
    "name": "ipython",
    "version": 3
   },
   "file_extension": ".py",
   "mimetype": "text/x-python",
   "name": "python",
   "nbconvert_exporter": "python",
   "pygments_lexer": "ipython3",
   "version": "3.13.2"
  }
 },
 "nbformat": 4,
 "nbformat_minor": 5
}
